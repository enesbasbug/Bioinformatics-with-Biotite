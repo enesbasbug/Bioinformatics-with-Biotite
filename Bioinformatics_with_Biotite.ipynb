{
 "cells": [
  {
   "cell_type": "markdown",
   "metadata": {},
   "source": [
    "#### Bioinformatics with Biotite\n",
    "\n",
    "+ What is Biotite\n",
    "+ Biotite is like a Swiss army knife for bioinformatics\n",
    "+ It can handle a major part of the typical workflow for sequence and biomolecular structure data:\n",
    "    - Searching and fetching data from biological databases\n",
    "    - Reading and writing popular sequence/structure file formats\n",
    "    - Analyzing and editing sequence/structure data\n",
    "    - Visualizing sequence/structure data\n",
    "    - Interfacing external applications for further analysis\n",
    "\n",
    "\n",
    "    \n",
    "#### Modules of Biotite\n",
    "+ Sequence:functionality for working with sequence information of any kind\n",
    "+ Structure:enables handling of 3D structures of biomolecules\n",
    "+ Applications:provides interfaces for external software, in case Biotite’s integrated functionality is not sufficient for your tasks\n",
    "+ Database:searching and downloading data from biological databases, including the arguably most important ones: the RCSB PDB and the NCBI Entrez database.\n",
    "\n",
    "#### Installation\n",
    "+ pip install biotite"
   ]
  },
  {
   "cell_type": "code",
   "execution_count": 1,
   "metadata": {},
   "outputs": [],
   "source": [
    "#!pip install biotite"
   ]
  },
  {
   "cell_type": "markdown",
   "metadata": {},
   "source": [
    "### Working with Sequences using the sequence subpackage\n",
    "#### Sequence Analysis\n",
    "+ DNA and RNA Sequence\n",
    "    - A Adenine\n",
    "    - C Cytosine\n",
    "    - G Guanine\n",
    "    - T Thymine\n",
    "    - U Uracil * RNA\n",
    "    \n",
    " \n",
    "+ DNA Structure"
   ]
  },
  {
   "cell_type": "code",
   "execution_count": 2,
   "metadata": {},
   "outputs": [],
   "source": [
    "# Creating a sequence\n",
    "import biotite.sequence as seq"
   ]
  },
  {
   "cell_type": "code",
   "execution_count": 3,
   "metadata": {},
   "outputs": [
    {
     "name": "stdout",
     "output_type": "stream",
     "text": [
      "ATCTGCAT\n"
     ]
    }
   ],
   "source": [
    "# dir(seq)\n",
    "\n",
    "# General Sequence\n",
    "dna = seq.NucleotideSequence('ATCTGCAT')\n",
    "print(dna)"
   ]
  },
  {
   "cell_type": "code",
   "execution_count": 4,
   "metadata": {},
   "outputs": [
    {
     "data": {
      "text/plain": [
       "'ATCTGCAT'"
      ]
     },
     "execution_count": 4,
     "metadata": {},
     "output_type": "execute_result"
    }
   ],
   "source": [
    "# Display with str\n",
    "str(dna)"
   ]
  },
  {
   "cell_type": "code",
   "execution_count": 5,
   "metadata": {},
   "outputs": [
    {
     "name": "stdout",
     "output_type": "stream",
     "text": [
      "['A', 'C', 'G', 'T']\n"
     ]
    }
   ],
   "source": [
    "# Get all the letters in my sequence\n",
    "print(dna.alphabet)"
   ]
  },
  {
   "cell_type": "code",
   "execution_count": 6,
   "metadata": {},
   "outputs": [
    {
     "name": "stdout",
     "output_type": "stream",
     "text": [
      "['A', 'C', 'G', 'T']\n"
     ]
    }
   ],
   "source": [
    "# Get all the letters in your sequence\n",
    "print(dna.get_alphabet())"
   ]
  },
  {
   "cell_type": "code",
   "execution_count": 7,
   "metadata": {},
   "outputs": [
    {
     "name": "stdout",
     "output_type": "stream",
     "text": [
      "ATCTGCAT\n",
      "--------------\n",
      "TACGTCTA\n",
      "--------------\n",
      "TAGACGTA\n",
      "--------------\n",
      "ATGCAGAT\n",
      "--------------\n",
      "ATGCAGAT\n"
     ]
    }
   ],
   "source": [
    "# dir(dna)\n",
    "print(dna)\n",
    "print(\"--------------\")\n",
    "print(dna.reverse())\n",
    "print(\"--------------\")\n",
    "print(dna.complement())\n",
    "\n",
    "print(\"--------------\")\n",
    "# Reverse complement\n",
    "print(dna.reverse().complement())\n",
    "\n",
    "print(\"--------------\")\n",
    "# Custom Method\n",
    "print(seq.NucleotideSequence(str(dna)[::-1]).complement())"
   ]
  },
  {
   "cell_type": "code",
   "execution_count": 8,
   "metadata": {},
   "outputs": [
    {
     "name": "stdout",
     "output_type": "stream",
     "text": [
      "MIT\n"
     ]
    }
   ],
   "source": [
    "# Creating A Protein Sequence\n",
    "protein_seq = seq.ProteinSequence(\"MIT\")\n",
    "\n",
    "print(protein_seq)"
   ]
  },
  {
   "cell_type": "code",
   "execution_count": 9,
   "metadata": {},
   "outputs": [
    {
     "data": {
      "text/plain": [
       "{'A': 0,\n",
       " 'C': 0,\n",
       " 'D': 0,\n",
       " 'E': 0,\n",
       " 'F': 0,\n",
       " 'G': 0,\n",
       " 'H': 0,\n",
       " 'I': 1,\n",
       " 'K': 0,\n",
       " 'L': 0,\n",
       " 'M': 1,\n",
       " 'N': 0,\n",
       " 'P': 0,\n",
       " 'Q': 0,\n",
       " 'R': 0,\n",
       " 'S': 0,\n",
       " 'T': 1,\n",
       " 'V': 0,\n",
       " 'W': 0,\n",
       " 'Y': 0,\n",
       " 'B': 0,\n",
       " 'Z': 0,\n",
       " 'X': 0,\n",
       " '*': 0}"
      ]
     },
     "execution_count": 9,
     "metadata": {},
     "output_type": "execute_result"
    }
   ],
   "source": [
    "# Freq or Count of Aminoacids\n",
    "protein_seq.get_symbol_frequency()"
   ]
  },
  {
   "cell_type": "code",
   "execution_count": 10,
   "metadata": {},
   "outputs": [
    {
     "name": "stdout",
     "output_type": "stream",
     "text": [
      "M MET\n",
      "I ILE\n",
      "T THR\n"
     ]
    }
   ],
   "source": [
    "# Convert Amino Acids (1 to 3 codons)\n",
    "\n",
    "for aa in protein_seq:\n",
    "    print(aa, seq.ProteinSequence.convert_letter_1to3(aa))"
   ]
  },
  {
   "cell_type": "code",
   "execution_count": 11,
   "metadata": {},
   "outputs": [
    {
     "name": "stdout",
     "output_type": "stream",
     "text": [
      "METILETHR\n"
     ]
    }
   ],
   "source": [
    "# Create A Protein Sequence\n",
    "protein_seq2 = seq.ProteinSequence(\"MetIleThr\")\n",
    "\n",
    "print(protein_seq2)"
   ]
  },
  {
   "cell_type": "code",
   "execution_count": 12,
   "metadata": {},
   "outputs": [],
   "source": [
    "# dir(protein_seq2)"
   ]
  },
  {
   "cell_type": "code",
   "execution_count": 13,
   "metadata": {},
   "outputs": [
    {
     "name": "stdout",
     "output_type": "stream",
     "text": [
      "M MET\n",
      "E GLU\n",
      "T THR\n",
      "I ILE\n",
      "L LEU\n",
      "E GLU\n",
      "T THR\n",
      "H HIS\n",
      "R ARG\n"
     ]
    }
   ],
   "source": [
    "# Convert Amino Acids (3 to 1 codons)\n",
    "for aa in protein_seq2:\n",
    "    print(aa,seq.ProteinSequence.convert_letter_1to3(aa))"
   ]
  },
  {
   "cell_type": "code",
   "execution_count": null,
   "metadata": {},
   "outputs": [],
   "source": []
  },
  {
   "cell_type": "markdown",
   "metadata": {},
   "source": [
    "#### Sequence Manipulation \n",
    "** convert to string first\n",
    "+ Count\n",
    "+ Find Nucleotides and Subseq\n",
    "+ Join"
   ]
  },
  {
   "cell_type": "code",
   "execution_count": 14,
   "metadata": {},
   "outputs": [],
   "source": [
    "dna = seq.NucleotideSequence('ATGATCTCGTAA')"
   ]
  },
  {
   "cell_type": "code",
   "execution_count": 15,
   "metadata": {},
   "outputs": [
    {
     "name": "stdout",
     "output_type": "stream",
     "text": [
      "ATGATCTCGTAA\n",
      "12\n",
      "ATGATCTCGTAA\n"
     ]
    }
   ],
   "source": [
    "print(dna)\n",
    "\n",
    "print(len(dna))\n",
    "\n",
    "print(str(dna))"
   ]
  },
  {
   "cell_type": "code",
   "execution_count": 16,
   "metadata": {},
   "outputs": [
    {
     "data": {
      "text/plain": [
       "1"
      ]
     },
     "execution_count": 16,
     "metadata": {},
     "output_type": "execute_result"
    }
   ],
   "source": [
    "# find the position of Base or Nucleotide\n",
    "str(dna).find('T')"
   ]
  },
  {
   "cell_type": "code",
   "execution_count": 17,
   "metadata": {},
   "outputs": [
    {
     "data": {
      "text/plain": [
       "2"
      ]
     },
     "execution_count": 17,
     "metadata": {},
     "output_type": "execute_result"
    }
   ],
   "source": [
    "# Count the Freq of Nucleotide\n",
    "# Method 1\n",
    "\n",
    "str(dna).count('G')"
   ]
  },
  {
   "cell_type": "code",
   "execution_count": 18,
   "metadata": {},
   "outputs": [
    {
     "data": {
      "text/plain": [
       "{'A': 4, 'C': 2, 'G': 2, 'T': 4}"
      ]
     },
     "execution_count": 18,
     "metadata": {},
     "output_type": "execute_result"
    }
   ],
   "source": [
    "# Method 2\n",
    "dna.get_symbol_frequency()"
   ]
  },
  {
   "cell_type": "code",
   "execution_count": 19,
   "metadata": {},
   "outputs": [
    {
     "name": "stdout",
     "output_type": "stream",
     "text": [
      "GAT\n"
     ]
    }
   ],
   "source": [
    "# Searching for Subseq\n",
    "sub_seq = seq.NucleotideSequence('GAT')\n",
    "print(sub_seq)"
   ]
  },
  {
   "cell_type": "code",
   "execution_count": 20,
   "metadata": {},
   "outputs": [
    {
     "name": "stdout",
     "output_type": "stream",
     "text": [
      "ATGATCTCGTAA\n",
      "GAT\n"
     ]
    }
   ],
   "source": [
    "print(dna)\n",
    "print(sub_seq)"
   ]
  },
  {
   "cell_type": "code",
   "execution_count": 21,
   "metadata": {},
   "outputs": [
    {
     "name": "stdout",
     "output_type": "stream",
     "text": [
      "[2]\n"
     ]
    }
   ],
   "source": [
    "# Finding sebsequence\n",
    "print(seq.find_subsequence(dna,sub_seq))"
   ]
  },
  {
   "cell_type": "code",
   "execution_count": 22,
   "metadata": {},
   "outputs": [
    {
     "name": "stdout",
     "output_type": "stream",
     "text": [
      "[2 8]\n",
      "2\n",
      "8\n"
     ]
    }
   ],
   "source": [
    "# Find the occurence of Nucleotide in seq\n",
    "print(seq.find_symbol(dna,'G'))\n",
    "\n",
    "# Find the occurence of Nucleotide in seq\n",
    "print(seq.find_symbol_first(dna,'G'))\n",
    "\n",
    "# Find the occurence of Nucleotide in seq\n",
    "print(seq.find_symbol_last(dna,'G'))"
   ]
  },
  {
   "cell_type": "code",
   "execution_count": 23,
   "metadata": {},
   "outputs": [
    {
     "data": {
      "text/plain": [
       "{'A': 4, 'C': 2, 'G': 2, 'T': 4}"
      ]
     },
     "execution_count": 23,
     "metadata": {},
     "output_type": "execute_result"
    }
   ],
   "source": [
    "# Plot of our Freq/Count of N\n",
    "import matplotlib.pyplot as plt\n",
    "\n",
    "dna_freq = dna.get_symbol_frequency()\n",
    "dna_freq"
   ]
  },
  {
   "cell_type": "code",
   "execution_count": 24,
   "metadata": {},
   "outputs": [
    {
     "data": {
      "text/plain": [
       "<BarContainer object of 4 artists>"
      ]
     },
     "execution_count": 24,
     "metadata": {},
     "output_type": "execute_result"
    },
    {
     "data": {
      "image/png": "[encoded data removed]",
      "text/plain": [
       "<Figure size 432x288 with 1 Axes>"
      ]
     },
     "metadata": {
      "needs_background": "light"
     },
     "output_type": "display_data"
    }
   ],
   "source": [
    "plt.bar(dna_freq.keys(),dna_freq.values())"
   ]
  },
  {
   "cell_type": "code",
   "execution_count": null,
   "metadata": {},
   "outputs": [],
   "source": []
  },
  {
   "cell_type": "markdown",
   "metadata": {},
   "source": [
    "#### Protein Synthesis\n",
    "+ Transcription\n",
    "+ Translation\n"
   ]
  },
  {
   "cell_type": "code",
   "execution_count": 25,
   "metadata": {},
   "outputs": [
    {
     "name": "stdout",
     "output_type": "stream",
     "text": [
      "ATGATCTCGTAA\n"
     ]
    }
   ],
   "source": [
    "# Transcription **\n",
    "# DNA to mrna\n",
    "# write -give messenger\n",
    "print(dna)"
   ]
  },
  {
   "cell_type": "code",
   "execution_count": 26,
   "metadata": {},
   "outputs": [
    {
     "name": "stdout",
     "output_type": "stream",
     "text": [
      "MIS*\n"
     ]
    }
   ],
   "source": [
    "# Translate\n",
    "# Must specify complete true\n",
    "print(dna.translate(complete=True))"
   ]
  },
  {
   "cell_type": "code",
   "execution_count": 27,
   "metadata": {},
   "outputs": [
    {
     "name": "stdout",
     "output_type": "stream",
     "text": [
      "MIS*\n"
     ]
    }
   ],
   "source": [
    "# Protein of AA\n",
    "protein = dna.translate(complete=True)\n",
    "print(protein)"
   ]
  },
  {
   "cell_type": "code",
   "execution_count": 28,
   "metadata": {},
   "outputs": [
    {
     "name": "stdout",
     "output_type": "stream",
     "text": [
      "AAA K      AAC N      AAG K      AAT N\n",
      "ACA T      ACC T      ACG T      ACT T\n",
      "AGA R      AGC S      AGG R      AGT S\n",
      "ATA I      ATC I      ATG M i    ATT I\n",
      "\n",
      "CAA Q      CAC H      CAG Q      CAT H\n",
      "CCA P      CCC P      CCG P      CCT P\n",
      "CGA R      CGC R      CGG R      CGT R\n",
      "CTA L      CTC L      CTG L i    CTT L\n",
      "\n",
      "GAA E      GAC D      GAG E      GAT D\n",
      "GCA A      GCC A      GCG A      GCT A\n",
      "GGA G      GGC G      GGG G      GGT G\n",
      "GTA V      GTC V      GTG V      GTT V\n",
      "\n",
      "TAA *      TAC Y      TAG *      TAT Y\n",
      "TCA S      TCC S      TCG S      TCT S\n",
      "TGA *      TGC C      TGG W      TGT C\n",
      "TTA L      TTC F      TTG L i    TTT F\n"
     ]
    }
   ],
   "source": [
    "# Amino Acids in Codon Table\n",
    "# official NCBI\n",
    "print(seq.CodonTable.load(1))"
   ]
  },
  {
   "cell_type": "code",
   "execution_count": 29,
   "metadata": {},
   "outputs": [
    {
     "name": "stdout",
     "output_type": "stream",
     "text": [
      "AAA K      AAC N      AAG K      AAT N\n",
      "ACA T      ACC T      ACG T      ACT T\n",
      "AGA R      AGC S      AGG R      AGT S\n",
      "ATA I      ATC I      ATG M i    ATT I\n",
      "\n",
      "CAA Q      CAC H      CAG Q      CAT H\n",
      "CCA P      CCC P      CCG P      CCT P\n",
      "CGA R      CGC R      CGG R      CGT R\n",
      "CTA L      CTC L      CTG L      CTT L\n",
      "\n",
      "GAA E      GAC D      GAG E      GAT D\n",
      "GCA A      GCC A      GCG A      GCT A\n",
      "GGA G      GGC G      GGG G      GGT G\n",
      "GTA V      GTC V      GTG V      GTT V\n",
      "\n",
      "TAA *      TAC Y      TAG *      TAT Y\n",
      "TCA S      TCC S      TCG S      TCT S\n",
      "TGA *      TGC C      TGG W      TGT C\n",
      "TTA L      TTC F      TTG L      TTT F\n"
     ]
    }
   ],
   "source": [
    "# NCBI biotite\n",
    "print(seq.CodonTable.default_table())"
   ]
  },
  {
   "cell_type": "code",
   "execution_count": 30,
   "metadata": {},
   "outputs": [
    {
     "data": {
      "text/plain": [
       "biotite.sequence.CodonTable"
      ]
     },
     "execution_count": 30,
     "metadata": {},
     "output_type": "execute_result"
    }
   ],
   "source": [
    "# Search for the amino acid nucleotide combination\n",
    "table = seq.CodonTable.default_table()\n",
    "\n",
    "type(table)"
   ]
  },
  {
   "cell_type": "code",
   "execution_count": 31,
   "metadata": {},
   "outputs": [
    {
     "data": {
      "text/plain": [
       "'E'"
      ]
     },
     "execution_count": 31,
     "metadata": {},
     "output_type": "execute_result"
    }
   ],
   "source": [
    "# Find a AA by Codon ( 3N )\n",
    "table[\"GAA\"]"
   ]
  },
  {
   "cell_type": "code",
   "execution_count": 32,
   "metadata": {},
   "outputs": [
    {
     "data": {
      "text/plain": [
       "('GAA', 'GAG')"
      ]
     },
     "execution_count": 32,
     "metadata": {},
     "output_type": "execute_result"
    }
   ],
   "source": [
    "# Find Codon for AA ( 3N )\n",
    "table['E']"
   ]
  },
  {
   "cell_type": "code",
   "execution_count": 33,
   "metadata": {},
   "outputs": [
    {
     "name": "stdout",
     "output_type": "stream",
     "text": [
      "AAA K      AAC N      AAG K      AAT N\n",
      "ACA T      ACC T      ACG T      ACT T\n",
      "AGA R      AGC S      AGG R      AGT S\n",
      "ATA I i    ATC I i    ATG M i    ATT I\n",
      "\n",
      "CAA Q      CAC H      CAG Q      CAT H\n",
      "CCA P      CCC P      CCG P      CCT P\n",
      "CGA R      CGC R      CGG R      CGT R\n",
      "CTA L      CTC L      CTG L i    CTT L\n",
      "\n",
      "GAA E      GAC D      GAG E      GAT D\n",
      "GCA A      GCC A      GCG A      GCT A\n",
      "GGA G      GGC G      GGG G      GGT G\n",
      "GTA V      GTC V      GTG V i    GTT V\n",
      "\n",
      "TAA *      TAC Y      TAG *      TAT Y\n",
      "TCA S      TCC S      TCG S      TCT S\n",
      "TGA *      TGC C      TGG W      TGT C\n",
      "TTA L      TTC F      TTG L i    TTT F\n"
     ]
    }
   ],
   "source": [
    "# Check for Codon Table of Other Species\n",
    "# For Bacterial Genome\n",
    "bacterial_tb = seq.CodonTable.load(11)\n",
    "\n",
    "print(bacterial_tb)"
   ]
  },
  {
   "cell_type": "code",
   "execution_count": 34,
   "metadata": {},
   "outputs": [
    {
     "name": "stdout",
     "output_type": "stream",
     "text": [
      "AAA K      AAC N      AAG K      AAT N\n",
      "ACA T      ACC T      ACG T      ACT T\n",
      "AGA R      AGC S      AGG R      AGT S\n",
      "ATA M i    ATC I      ATG M i    ATT I\n",
      "\n",
      "CAA Q      CAC H      CAG Q      CAT H\n",
      "CCA P      CCC P      CCG P      CCT P\n",
      "CGA R      CGC R      CGG R      CGT R\n",
      "CTA T      CTC T      CTG T      CTT T\n",
      "\n",
      "GAA E      GAC D      GAG E      GAT D\n",
      "GCA A      GCC A      GCG A      GCT A\n",
      "GGA G      GGC G      GGG G      GGT G\n",
      "GTA V      GTC V      GTG V      GTT V\n",
      "\n",
      "TAA *      TAC Y      TAG *      TAT Y\n",
      "TCA S      TCC S      TCG S      TCT S\n",
      "TGA W      TGC C      TGG W      TGT C\n",
      "TTA L      TTC F      TTG L      TTT F\n"
     ]
    }
   ],
   "source": [
    "# For Yeast Mitochondrial\n",
    "# using name\n",
    "yeast_tb = seq.CodonTable.load(\"Yeast Mitochondrial\")\n",
    "\n",
    "print(yeast_tb)"
   ]
  },
  {
   "cell_type": "code",
   "execution_count": null,
   "metadata": {},
   "outputs": [],
   "source": []
  },
  {
   "cell_type": "markdown",
   "metadata": {},
   "source": [
    "### Sequence Alignment\n",
    "+ Sequence alignment is a way of arranging the sequences of DNA, RNA, or protein to identify regions of similarity that may be a consequence of functional, structural, or evolutionary relationships between the sequences\n",
    "\n",
    "![](aligngap.png)\n",
    "\n",
    "#### Terms\n",
    "+ Match\n",
    "+ Mismatch\n",
    "+ Gaps\n",
    "+ Similarity\n",
    "+ Identity\n",
    "+ Homology\n",
    "\n",
    "\n",
    "#### Types of Alignment Methods\n",
    "![](localvsglobalalignment.jpg)\n",
    "+ Global alignments \n",
    "    - optimization that \"forces\" the alignment to span the entire length of all query sequences\n",
    "+ Local alignments\n",
    "    - local alignments identify regions of similarity within long sequences that are often widely divergent overall. \n",
    "    - Local alignments are often preferable, but can be more difficult to calculate because of the additional challenge of identifying the regions of similarity\n",
    "    \n",
    "    \n",
    "#### Biotite :Align\n",
    "+ The function align_optimal(), \n",
    "    - it performs an optimal global alignment, using the Needleman-Wunsch algorithm, \n",
    "    - it performs an optimal local alignment, using the Smith-Waterman algorithm\n",
    "    \n",
    "    \n",
    "+ Substitution Matrix:\n",
    "    - It maps a similarity score to two symbols, one from the first sequence the other from the second sequence. \n",
    "    - A SubstitutionMatrix object contains two alphabets with length n or m, respectively, and an (n,m)-shaped ndarray storing the similarity scores"
   ]
  },
  {
   "cell_type": "code",
   "execution_count": 35,
   "metadata": {},
   "outputs": [],
   "source": [
    "# Load pkg\n",
    "import biotite.sequence.align as align\n",
    "\n",
    "# Method\n",
    "# dir(align)\n",
    "\n"
   ]
  },
  {
   "cell_type": "code",
   "execution_count": 36,
   "metadata": {},
   "outputs": [
    {
     "name": "stdout",
     "output_type": "stream",
     "text": [
      "    A   C   G   T\n",
      "A   5  -4  -4  -4\n",
      "C  -4   5  -4  -4\n",
      "G  -4  -4   5  -4\n",
      "T  -4  -4  -4   5\n"
     ]
    }
   ],
   "source": [
    "# Create Sub Matrix\n",
    "# Standart SubMatrix\n",
    "n_matrix = align.SubstitutionMatrix.std_nucleotide_matrix()\n",
    "print(n_matrix)"
   ]
  },
  {
   "cell_type": "code",
   "execution_count": 37,
   "metadata": {},
   "outputs": [
    {
     "name": "stdout",
     "output_type": "stream",
     "text": [
      "    A   C   D   E   F   G   H   I   K   L   M   N   P   Q   R   S   T   V   W   Y   B   Z   X   *\n",
      "A   4   0  -2  -1  -2   0  -2  -1  -1  -1  -1  -2  -1  -1  -1   1   0   0  -3  -2  -2  -1   0  -4\n",
      "C   0   9  -3  -4  -2  -3  -3  -1  -3  -1  -1  -3  -3  -3  -3  -1  -1  -1  -2  -2  -3  -3  -2  -4\n",
      "D  -2  -3   6   2  -3  -1  -1  -3  -1  -4  -3   1  -1   0  -2   0  -1  -3  -4  -3   4   1  -1  -4\n",
      "E  -1  -4   2   5  -3  -2   0  -3   1  -3  -2   0  -1   2   0   0  -1  -2  -3  -2   1   4  -1  -4\n",
      "F  -2  -2  -3  -3   6  -3  -1   0  -3   0   0  -3  -4  -3  -3  -2  -2  -1   1   3  -3  -3  -1  -4\n",
      "G   0  -3  -1  -2  -3   6  -2  -4  -2  -4  -3   0  -2  -2  -2   0  -2  -3  -2  -3  -1  -2  -1  -4\n",
      "H  -2  -3  -1   0  -1  -2   8  -3  -1  -3  -2   1  -2   0   0  -1  -2  -3  -2   2   0   0  -1  -4\n",
      "I  -1  -1  -3  -3   0  -4  -3   4  -3   2   1  -3  -3  -3  -3  -2  -1   3  -3  -1  -3  -3  -1  -4\n",
      "K  -1  -3  -1   1  -3  -2  -1  -3   5  -2  -1   0  -1   1   2   0  -1  -2  -3  -2   0   1  -1  -4\n",
      "L  -1  -1  -4  -3   0  -4  -3   2  -2   4   2  -3  -3  -2  -2  -2  -1   1  -2  -1  -4  -3  -1  -4\n",
      "M  -1  -1  -3  -2   0  -3  -2   1  -1   2   5  -2  -2   0  -1  -1  -1   1  -1  -1  -3  -1  -1  -4\n",
      "N  -2  -3   1   0  -3   0   1  -3   0  -3  -2   6  -2   0   0   1   0  -3  -4  -2   3   0  -1  -4\n",
      "P  -1  -3  -1  -1  -4  -2  -2  -3  -1  -3  -2  -2   7  -1  -2  -1  -1  -2  -4  -3  -2  -1  -2  -4\n",
      "Q  -1  -3   0   2  -3  -2   0  -3   1  -2   0   0  -1   5   1   0  -1  -2  -2  -1   0   3  -1  -4\n",
      "R  -1  -3  -2   0  -3  -2   0  -3   2  -2  -1   0  -2   1   5  -1  -1  -3  -3  -2  -1   0  -1  -4\n",
      "S   1  -1   0   0  -2   0  -1  -2   0  -2  -1   1  -1   0  -1   4   1  -2  -3  -2   0   0   0  -4\n",
      "T   0  -1  -1  -1  -2  -2  -2  -1  -1  -1  -1   0  -1  -1  -1   1   5   0  -2  -2  -1  -1   0  -4\n",
      "V   0  -1  -3  -2  -1  -3  -3   3  -2   1   1  -3  -2  -2  -3  -2   0   4  -3  -1  -3  -2  -1  -4\n",
      "W  -3  -2  -4  -3   1  -2  -2  -3  -3  -2  -1  -4  -4  -2  -3  -3  -2  -3  11   2  -4  -3  -2  -4\n",
      "Y  -2  -2  -3  -2   3  -3   2  -1  -2  -1  -1  -2  -3  -1  -2  -2  -2  -1   2   7  -3  -2  -1  -4\n",
      "B  -2  -3   4   1  -3  -1   0  -3   0  -4  -3   3  -2   0  -1   0  -1  -3  -4  -3   4   1  -1  -4\n",
      "Z  -1  -3   1   4  -3  -2   0  -3   1  -3  -1   0  -1   3   0   0  -1  -2  -3  -2   1   4  -1  -4\n",
      "X   0  -2  -1  -1  -1  -1  -1  -1  -1  -1  -1  -1  -2  -1  -1   0   0  -1  -2  -1  -1  -1  -1  -4\n",
      "*  -4  -4  -4  -4  -4  -4  -4  -4  -4  -4  -4  -4  -4  -4  -4  -4  -4  -4  -4  -4  -4  -4  -4   1\n"
     ]
    }
   ],
   "source": [
    "# Create Sub Matrix\n",
    "# Standard SubMatrix\n",
    "p_matrix = align.SubstitutionMatrix.std_protein_matrix()\n",
    "print(p_matrix)"
   ]
  },
  {
   "cell_type": "code",
   "execution_count": 38,
   "metadata": {},
   "outputs": [
    {
     "name": "stdout",
     "output_type": "stream",
     "text": [
      "    A   C   D   E   F   G   H   I   K   L   M   N   P   Q   R   S   T   V   W   Y   B   Z   X   *\n",
      "A   5  -1  -2  -1  -3   0  -2  -1  -1  -2  -1  -1  -1  -1  -2   1   0   0  -3  -2  -2  -1  -1  -5\n",
      "C  -1  13  -4  -3  -2  -3  -3  -2  -3  -2  -2  -2  -4  -3  -4  -1  -1  -1  -5  -3  -3  -3  -2  -5\n",
      "D  -2  -4   8   2  -5  -1  -1  -4  -1  -4  -4   2  -1   0  -2   0  -1  -4  -5  -3   5   1  -1  -5\n",
      "E  -1  -3   2   6  -3  -3   0  -4   1  -3  -2   0  -1   2   0  -1  -1  -3  -3  -2   1   5  -1  -5\n",
      "F  -3  -2  -5  -3   8  -4  -1   0  -4   1   0  -4  -4  -4  -3  -3  -2  -1   1   4  -4  -4  -2  -5\n",
      "G   0  -3  -1  -3  -4   8  -2  -4  -2  -4  -3   0  -2  -2  -3   0  -2  -4  -3  -3  -1  -2  -2  -5\n",
      "H  -2  -3  -1   0  -1  -2  10  -4   0  -3  -1   1  -2   1   0  -1  -2  -4  -3   2   0   0  -1  -5\n",
      "I  -1  -2  -4  -4   0  -4  -4   5  -3   2   2  -3  -3  -3  -4  -3  -1   4  -3  -1  -4  -3  -1  -5\n",
      "K  -1  -3  -1   1  -4  -2   0  -3   6  -3  -2   0  -1   2   3   0  -1  -3  -3  -2   0   1  -1  -5\n",
      "L  -2  -2  -4  -3   1  -4  -3   2  -3   5   3  -4  -4  -2  -3  -3  -1   1  -2  -1  -4  -3  -1  -5\n",
      "M  -1  -2  -4  -2   0  -3  -1   2  -2   3   7  -2  -3   0  -2  -2  -1   1  -1   0  -3  -1  -1  -5\n",
      "N  -1  -2   2   0  -4   0   1  -3   0  -4  -2   7  -2   0  -1   1   0  -3  -4  -2   4   0  -1  -5\n",
      "P  -1  -4  -1  -1  -4  -2  -2  -3  -1  -4  -3  -2  10  -1  -3  -1  -1  -3  -4  -3  -2  -1  -2  -5\n",
      "Q  -1  -3   0   2  -4  -2   1  -3   2  -2   0   0  -1   7   1   0  -1  -3  -1  -1   0   4  -1  -5\n",
      "R  -2  -4  -2   0  -3  -3   0  -4   3  -3  -2  -1  -3   1   7  -1  -1  -3  -3  -1  -1   0  -1  -5\n",
      "S   1  -1   0  -1  -3   0  -1  -3   0  -3  -2   1  -1   0  -1   5   2  -2  -4  -2   0   0  -1  -5\n",
      "T   0  -1  -1  -1  -2  -2  -2  -1  -1  -1  -1   0  -1  -1  -1   2   5   0  -3  -2   0  -1   0  -5\n",
      "V   0  -1  -4  -3  -1  -4  -4   4  -3   1   1  -3  -3  -3  -3  -2   0   5  -3  -1  -4  -3  -1  -5\n",
      "W  -3  -5  -5  -3   1  -3  -3  -3  -3  -2  -1  -4  -4  -1  -3  -4  -3  -3  15   2  -5  -2  -3  -5\n",
      "Y  -2  -3  -3  -2   4  -3   2  -1  -2  -1   0  -2  -3  -1  -1  -2  -2  -1   2   8  -3  -2  -1  -5\n",
      "B  -2  -3   5   1  -4  -1   0  -4   0  -4  -3   4  -2   0  -1   0   0  -4  -5  -3   5   2  -1  -5\n",
      "Z  -1  -3   1   5  -4  -2   0  -3   1  -3  -1   0  -1   4   0   0  -1  -3  -2  -2   2   5  -1  -5\n",
      "X  -1  -2  -1  -1  -2  -2  -1  -1  -1  -1  -1  -1  -2  -1  -1  -1   0  -1  -3  -1  -1  -1  -1  -5\n",
      "*  -5  -5  -5  -5  -5  -5  -5  -5  -5  -5  -5  -5  -5  -5  -5  -5  -5  -5  -5  -5  -5  -5  -5   1\n"
     ]
    }
   ],
   "source": [
    "# Load SubMatrix from internal database\n",
    "alph = seq.ProteinSequence.alphabet\n",
    "matrix_bl50 = align.SubstitutionMatrix(alph,alph,\"BLOSUM50\")\n",
    "print(matrix_bl50)"
   ]
  },
  {
   "cell_type": "code",
   "execution_count": 39,
   "metadata": {},
   "outputs": [
    {
     "name": "stdout",
     "output_type": "stream",
     "text": [
      "    A   C   D   E   F   G   H   I   K   L   M   N   P   Q   R   S   T   V   W   Y   B   Z   X   *\n",
      "A   4   0  -2  -1  -2   0  -2  -1  -1  -1  -1  -2  -1  -1  -1   1   0   0  -3  -2  -2  -1   0  -4\n",
      "C   0   9  -3  -4  -2  -3  -3  -1  -3  -1  -1  -3  -3  -3  -3  -1  -1  -1  -2  -2  -3  -3  -2  -4\n",
      "D  -2  -3   6   2  -3  -1  -1  -3  -1  -4  -3   1  -1   0  -2   0  -1  -3  -4  -3   4   1  -1  -4\n",
      "E  -1  -4   2   5  -3  -2   0  -3   1  -3  -2   0  -1   2   0   0  -1  -2  -3  -2   1   4  -1  -4\n",
      "F  -2  -2  -3  -3   6  -3  -1   0  -3   0   0  -3  -4  -3  -3  -2  -2  -1   1   3  -3  -3  -1  -4\n",
      "G   0  -3  -1  -2  -3   6  -2  -4  -2  -4  -3   0  -2  -2  -2   0  -2  -3  -2  -3  -1  -2  -1  -4\n",
      "H  -2  -3  -1   0  -1  -2   8  -3  -1  -3  -2   1  -2   0   0  -1  -2  -3  -2   2   0   0  -1  -4\n",
      "I  -1  -1  -3  -3   0  -4  -3   4  -3   2   1  -3  -3  -3  -3  -2  -1   3  -3  -1  -3  -3  -1  -4\n",
      "K  -1  -3  -1   1  -3  -2  -1  -3   5  -2  -1   0  -1   1   2   0  -1  -2  -3  -2   0   1  -1  -4\n",
      "L  -1  -1  -4  -3   0  -4  -3   2  -2   4   2  -3  -3  -2  -2  -2  -1   1  -2  -1  -4  -3  -1  -4\n",
      "M  -1  -1  -3  -2   0  -3  -2   1  -1   2   5  -2  -2   0  -1  -1  -1   1  -1  -1  -3  -1  -1  -4\n",
      "N  -2  -3   1   0  -3   0   1  -3   0  -3  -2   6  -2   0   0   1   0  -3  -4  -2   3   0  -1  -4\n",
      "P  -1  -3  -1  -1  -4  -2  -2  -3  -1  -3  -2  -2   7  -1  -2  -1  -1  -2  -4  -3  -2  -1  -2  -4\n",
      "Q  -1  -3   0   2  -3  -2   0  -3   1  -2   0   0  -1   5   1   0  -1  -2  -2  -1   0   3  -1  -4\n",
      "R  -1  -3  -2   0  -3  -2   0  -3   2  -2  -1   0  -2   1   5  -1  -1  -3  -3  -2  -1   0  -1  -4\n",
      "S   1  -1   0   0  -2   0  -1  -2   0  -2  -1   1  -1   0  -1   4   1  -2  -3  -2   0   0   0  -4\n",
      "T   0  -1  -1  -1  -2  -2  -2  -1  -1  -1  -1   0  -1  -1  -1   1   5   0  -2  -2  -1  -1   0  -4\n",
      "V   0  -1  -3  -2  -1  -3  -3   3  -2   1   1  -3  -2  -2  -3  -2   0   4  -3  -1  -3  -2  -1  -4\n",
      "W  -3  -2  -4  -3   1  -2  -2  -3  -3  -2  -1  -4  -4  -2  -3  -3  -2  -3  11   2  -4  -3  -2  -4\n",
      "Y  -2  -2  -3  -2   3  -3   2  -1  -2  -1  -1  -2  -3  -1  -2  -2  -2  -1   2   7  -3  -2  -1  -4\n",
      "B  -2  -3   4   1  -3  -1   0  -3   0  -4  -3   3  -2   0  -1   0  -1  -3  -4  -3   4   1  -1  -4\n",
      "Z  -1  -3   1   4  -3  -2   0  -3   1  -3  -1   0  -1   3   0   0  -1  -2  -3  -2   1   4  -1  -4\n",
      "X   0  -2  -1  -1  -1  -1  -1  -1  -1  -1  -1  -1  -2  -1  -1   0   0  -1  -2  -1  -1  -1  -1  -4\n",
      "*  -4  -4  -4  -4  -4  -4  -4  -4  -4  -4  -4  -4  -4  -4  -4  -4  -4  -4  -4  -4  -4  -4  -4   1\n"
     ]
    }
   ],
   "source": [
    "# Protein Seq Alignment\n",
    "pseq1 = seq.ProteinSequence(\"MITTITE\")\n",
    "pseq2 = seq.ProteinSequence(\"ITTITE\")\n",
    "\n",
    "# Protein SubMatrix\n",
    "print(p_matrix)"
   ]
  },
  {
   "cell_type": "code",
   "execution_count": 40,
   "metadata": {},
   "outputs": [
    {
     "name": "stdout",
     "output_type": "stream",
     "text": [
      "ITTITE\n",
      "ITTITE\n"
     ]
    }
   ],
   "source": [
    "# Local Alignment\n",
    "alignments = align.align_optimal(pseq1, pseq2, p_matrix,local=True)\n",
    "\n",
    "for a in alignments:\n",
    "    print(a)"
   ]
  },
  {
   "cell_type": "code",
   "execution_count": 41,
   "metadata": {},
   "outputs": [
    {
     "name": "stdout",
     "output_type": "stream",
     "text": [
      "MITTITE\n",
      "-ITTITE\n"
     ]
    }
   ],
   "source": [
    "# Global Alignment\n",
    "gl_alignments = align.align_optimal(pseq1,pseq2,p_matrix,local=False)\n",
    "\n",
    "for a in gl_alignments:\n",
    "    print(a)"
   ]
  },
  {
   "cell_type": "code",
   "execution_count": 42,
   "metadata": {},
   "outputs": [
    {
     "data": {
      "image/png": "[encoded data removed]",
      "text/plain": [
       "<Figure size 144x72 with 2 Axes>"
      ]
     },
     "metadata": {
      "needs_background": "light"
     },
     "output_type": "display_data"
    }
   ],
   "source": [
    "import biotite.sequence.graphics as graphics\n",
    "\n",
    "fig, ax = plt.subplots(figsize=(2, 1))\n",
    "graphics.plot_alignment_similarity_based(ax, alignments[0], matrix=p_matrix, symbols_per_line=len(alignments[0]))\n",
    "fig.tight_layout()"
   ]
  },
  {
   "cell_type": "code",
   "execution_count": 43,
   "metadata": {},
   "outputs": [
    {
     "data": {
      "image/png": "[encoded data removed]",
      "text/plain": [
       "<Figure size 144x72 with 2 Axes>"
      ]
     },
     "metadata": {
      "needs_background": "light"
     },
     "output_type": "display_data"
    }
   ],
   "source": [
    "# Global\n",
    "fig, ax = plt.subplots(figsize=(2, 1))\n",
    "graphics.plot_alignment_similarity_based(\n",
    "    ax, gl_alignments[0], matrix=p_matrix, symbols_per_line=len(gl_alignments[0])\n",
    ")\n",
    "fig.tight_layout()"
   ]
  },
  {
   "cell_type": "code",
   "execution_count": 44,
   "metadata": {},
   "outputs": [
    {
     "data": {
      "text/plain": [
       "28"
      ]
     },
     "execution_count": 44,
     "metadata": {},
     "output_type": "execute_result"
    }
   ],
   "source": [
    "# Alignment Score\n",
    "alignments[0].score"
   ]
  },
  {
   "cell_type": "code",
   "execution_count": 45,
   "metadata": {},
   "outputs": [
    {
     "name": "stdout",
     "output_type": "stream",
     "text": [
      "Score 28\n",
      "Recalc Score 28\n",
      "Sequence Identity 1.0\n"
     ]
    }
   ],
   "source": [
    "loc_alignments = alignments[0]\n",
    "print(\"Score\",loc_alignments.score)\n",
    "print(\"Recalc Score\",align.score(loc_alignments,matrix=p_matrix))\n",
    "print(\"Sequence Identity\",align.get_sequence_identity(loc_alignments))"
   ]
  },
  {
   "cell_type": "code",
   "execution_count": 46,
   "metadata": {},
   "outputs": [],
   "source": [
    "### Nucleotide Sequence Alignment\n",
    "dna_seq1 = seq.NucleotideSequence('ATGATCTCGTAA')\n",
    "dna_seq2 = seq.NucleotideSequence('ATCTCGTAG')"
   ]
  },
  {
   "cell_type": "code",
   "execution_count": 47,
   "metadata": {},
   "outputs": [
    {
     "name": "stdout",
     "output_type": "stream",
     "text": [
      "    A   C   G   T\n",
      "A   5  -4  -4  -4\n",
      "C  -4   5  -4  -4\n",
      "G  -4  -4   5  -4\n",
      "T  -4  -4  -4   5\n"
     ]
    }
   ],
   "source": [
    "print(n_matrix)"
   ]
  },
  {
   "cell_type": "code",
   "execution_count": 48,
   "metadata": {},
   "outputs": [
    {
     "name": "stdout",
     "output_type": "stream",
     "text": [
      "ATCTCGTA\n",
      "ATCTCGTA\n"
     ]
    }
   ],
   "source": [
    "# Local Alignment\n",
    "dna_alignments = align.align_optimal(dna_seq1,dna_seq2,n_matrix,local=True)\n",
    "\n",
    "for a in dna_alignments:\n",
    "    print(a)"
   ]
  },
  {
   "cell_type": "code",
   "execution_count": 49,
   "metadata": {},
   "outputs": [
    {
     "name": "stdout",
     "output_type": "stream",
     "text": [
      "ATGATCTCGTAA\n",
      "AT---CTCGTAG\n",
      "ATGATCTCGTAA\n",
      "A---TCTCGTAG\n",
      "ATGATCTCGTAA\n",
      "---ATCTCGTAG\n"
     ]
    }
   ],
   "source": [
    "# Global Alignment\n",
    "dna_glb_alignments = align.align_optimal(dna_seq1,dna_seq2,n_matrix,local=False)\n",
    "\n",
    "for a in dna_glb_alignments:\n",
    "    print(a)"
   ]
  },
  {
   "cell_type": "code",
   "execution_count": 50,
   "metadata": {},
   "outputs": [
    {
     "data": {
      "image/png": "[encoded data removed]",
      "text/plain": [
       "<Figure size 144x72 with 2 Axes>"
      ]
     },
     "metadata": {
      "needs_background": "light"
     },
     "output_type": "display_data"
    }
   ],
   "source": [
    "# Global\n",
    "fig, ax = plt.subplots(figsize=(2, 1))\n",
    "graphics.plot_alignment_similarity_based(\n",
    "    ax, dna_glb_alignments[0], matrix=n_matrix, symbols_per_line=len(dna_glb_alignments[0])\n",
    ")\n",
    "fig.tight_layout()"
   ]
  },
  {
   "cell_type": "code",
   "execution_count": 51,
   "metadata": {},
   "outputs": [
    {
     "name": "stdout",
     "output_type": "stream",
     "text": [
      "Score 6\n",
      "Recalc Score 15\n",
      "Sequence Identity 0.6666666666666666\n"
     ]
    }
   ],
   "source": [
    "glob_alignments = dna_glb_alignments[0]\n",
    "print(\"Score\",glob_alignments.score)\n",
    "print(\"Recalc Score\",align.score(glob_alignments,matrix=p_matrix))\n",
    "print(\"Sequence Identity\",align.get_sequence_identity(glob_alignments))"
   ]
  },
  {
   "cell_type": "code",
   "execution_count": null,
   "metadata": {},
   "outputs": [],
   "source": []
  },
  {
   "cell_type": "markdown",
   "metadata": {},
   "source": [
    "#### Working with Biological Data File Formats\n",
    "+ FASTA\n",
    "+ GenBank\n",
    "+ Generic Feature Format 3 (GFF3)\n",
    "+ FASTQ\n",
    "+ etc\n",
    "+ Ebola ID :KU182909.1\n",
    "\n",
    "    - https://www.ncbi.nlm.nih.gov/nuccore/KU182909.1"
   ]
  },
  {
   "cell_type": "code",
   "execution_count": 56,
   "metadata": {},
   "outputs": [],
   "source": [
    "import biotite.sequence.io.fasta as fasta\n",
    "\n",
    "# dir(fasta)"
   ]
  },
  {
   "cell_type": "code",
   "execution_count": 59,
   "metadata": {},
   "outputs": [],
   "source": [
    "# Read fasta\n",
    "file = fasta.FastaFile()\n",
    "file.read(\"ebola_sequence.fasta\")\n",
    "\n",
    "# print(file) IT WILL SHOW WHOLE FILE"
   ]
  },
  {
   "cell_type": "code",
   "execution_count": 61,
   "metadata": {},
   "outputs": [],
   "source": [
    "ebola_sequence = fasta.get_sequence(file)\n",
    "\n",
    "# print(ebola_sequence) IT WILL SHOW ONLY SEQ"
   ]
  },
  {
   "cell_type": "code",
   "execution_count": 62,
   "metadata": {},
   "outputs": [
    {
     "data": {
      "text/plain": [
       "{'KU182909.1 Ebola virus isolate Ebola virus/H. sapiens-tc/COD/1995/Kikwit-9510622, complete genome': <biotite.sequence.NucleotideSequence at 0x7f973c6b8cd0>}"
      ]
     },
     "execution_count": 62,
     "metadata": {},
     "output_type": "execute_result"
    }
   ],
   "source": [
    "# Dictionary\n",
    "fasta.get_sequences(file)"
   ]
  },
  {
   "cell_type": "code",
   "execution_count": 65,
   "metadata": {},
   "outputs": [],
   "source": [
    "# Reading Genbank File\n",
    "import biotite.sequence.io.genbank as gb\n",
    "\n",
    "# dir(gb)\n",
    "\n",
    "gfile = gb.GenBankFile()\n",
    "gfile.read(\"ebola_sequence.gb\")\n",
    "\n",
    "# print(gfile) IT WILL SHOW WHOLE FILE"
   ]
  },
  {
   "cell_type": "code",
   "execution_count": 66,
   "metadata": {},
   "outputs": [
    {
     "name": "stdout",
     "output_type": "stream",
     "text": [
      "<biotite.sequence.Annotation object at 0x7f973c69bc10>\n"
     ]
    }
   ],
   "source": [
    "print(gb.get_annotation(gfile))"
   ]
  },
  {
   "cell_type": "code",
   "execution_count": 69,
   "metadata": {},
   "outputs": [],
   "source": [
    "ebola_seq = gb.get_sequence(gfile)\n",
    "\n",
    "# print(ebola_seq) IT WILL SHOW ONLY SEQ"
   ]
  },
  {
   "cell_type": "code",
   "execution_count": null,
   "metadata": {},
   "outputs": [],
   "source": []
  },
  {
   "cell_type": "markdown",
   "metadata": {},
   "source": [
    "### Working with DB\n",
    "+ Task:Reading/Downloading Using the ID"
   ]
  },
  {
   "cell_type": "code",
   "execution_count": 71,
   "metadata": {},
   "outputs": [],
   "source": [
    "import biotite.database.entrez as entrez\n",
    "\n",
    "# dir(entrez)"
   ]
  },
  {
   "cell_type": "code",
   "execution_count": 72,
   "metadata": {},
   "outputs": [
    {
     "data": {
      "text/plain": [
       "'nuccore'"
      ]
     },
     "execution_count": 72,
     "metadata": {},
     "output_type": "execute_result"
    }
   ],
   "source": [
    "# Get database name\n",
    "entrez.get_database_name(\"Nucleotide\")"
   ]
  },
  {
   "cell_type": "code",
   "execution_count": 73,
   "metadata": {},
   "outputs": [
    {
     "data": {
      "text/plain": [
       "'protein'"
      ]
     },
     "execution_count": 73,
     "metadata": {},
     "output_type": "execute_result"
    }
   ],
   "source": [
    "# Get database name\n",
    "entrez.get_database_name(\"Protein\")"
   ]
  },
  {
   "cell_type": "markdown",
   "metadata": {},
   "source": [
    "+ Search\n",
    "+ query(simple/composite) => search => ID => fetch"
   ]
  },
  {
   "cell_type": "code",
   "execution_count": 74,
   "metadata": {},
   "outputs": [],
   "source": [
    "# Making a simple query\n",
    "myquery = entrez.SimpleQuery(\"Covid19\")"
   ]
  },
  {
   "cell_type": "code",
   "execution_count": 76,
   "metadata": {},
   "outputs": [
    {
     "name": "stdout",
     "output_type": "stream",
     "text": [
      "['1869520722', '1869490238', '1869490225', '1869490212', '1869490199', '1869490186', '1869490173', '1869490160', '1869490147', '1869490134']\n"
     ]
    }
   ],
   "source": [
    "# searching with query\n",
    "ans_id = entrez.search(myquery,\"nucleotide\",number=10)\n",
    "\n",
    "print(ans_id)"
   ]
  },
  {
   "cell_type": "code",
   "execution_count": 77,
   "metadata": {},
   "outputs": [],
   "source": [
    "# Downloading Our File\n",
    "file_path = entrez.fetch(\"1834447093\",\"myresult_dir\",suffix=\"fa\",db_name=\"nuccore\",ret_type=\"fasta\")"
   ]
  },
  {
   "cell_type": "code",
   "execution_count": 79,
   "metadata": {},
   "outputs": [
    {
     "data": {
      "text/plain": [
       "'myresult_dir/1834447093.fa'"
      ]
     },
     "execution_count": 79,
     "metadata": {},
     "output_type": "execute_result"
    }
   ],
   "source": [
    "file_path"
   ]
  },
  {
   "cell_type": "code",
   "execution_count": 80,
   "metadata": {},
   "outputs": [],
   "source": [
    "# Reading and Downloading\n",
    "# id KU182909.1\n",
    "## Downloading Our File\n",
    "file_path2 = entrez.fetch(\"KU182909.1\",\"myresult_dir\",suffix=\"fa\",db_name=\"nuccore\",ret_type=\"fasta\")"
   ]
  },
  {
   "cell_type": "code",
   "execution_count": 81,
   "metadata": {},
   "outputs": [],
   "source": [
    "import biotite.sequence.io.fasta as fasta\n",
    "\n",
    "file2 = fasta.FastaFile()\n",
    "file2.read(file_path2)"
   ]
  },
  {
   "cell_type": "code",
   "execution_count": 83,
   "metadata": {},
   "outputs": [
    {
     "name": "stdout",
     "output_type": "stream",
     "text": [
      "KU182909.1 Ebola virus isolate Ebola virus/H. sapiens-tc/COD/1995/Kikwit-9510622, complete genome\n"
     ]
    }
   ],
   "source": [
    "for h,st in file2.items():\n",
    "    print(h)\n",
    "    #print(st)"
   ]
  },
  {
   "cell_type": "code",
   "execution_count": null,
   "metadata": {},
   "outputs": [],
   "source": []
  },
  {
   "cell_type": "markdown",
   "metadata": {},
   "source": [
    "#### Working with 3D Structures\n",
    "+ pdb file\n",
    "+ cif file\n",
    "+ Fetching file\n",
    "+ Working with file"
   ]
  },
  {
   "cell_type": "code",
   "execution_count": 84,
   "metadata": {},
   "outputs": [],
   "source": [
    "# Fetching our 3D structure file\n",
    "import biotite.database.rcsb as rcsb\n",
    "\n",
    "# dir(rcsb)"
   ]
  },
  {
   "cell_type": "code",
   "execution_count": 86,
   "metadata": {},
   "outputs": [
    {
     "name": "stdout",
     "output_type": "stream",
     "text": [
      "mypdb_dir/4ZS6.pdb\n"
     ]
    }
   ],
   "source": [
    "# Reading\n",
    "\n",
    "# https://www.rcsb.org/structure/4ZS6\n",
    "\n",
    "pdb_file_path = rcsb.fetch(\"4ZS6\",\"pdb\",\"mypdb_dir\")\n",
    "print(pdb_file_path)"
   ]
  },
  {
   "cell_type": "code",
   "execution_count": 88,
   "metadata": {},
   "outputs": [
    {
     "name": "stdout",
     "output_type": "stream",
     "text": [
      "['mypdb_dir/4ZS6.pdb', 'mypdb_dir/6LU7.pdb']\n"
     ]
    }
   ],
   "source": [
    "# Multiple files\n",
    "pdb_file_path = rcsb.fetch([\"4ZS6\",\"6LU7\"],\"pdb\",\"mypdb_dir\")\n",
    "print(pdb_file_path)"
   ]
  },
  {
   "cell_type": "markdown",
   "metadata": {},
   "source": [
    "+ Working with 3D Structures\n",
    "    - pdb\n",
    "    - cif\n",
    "    - npz\n",
    "    - xtc\n",
    "    - mmt"
   ]
  },
  {
   "cell_type": "code",
   "execution_count": 90,
   "metadata": {},
   "outputs": [],
   "source": [
    "# Reading 3d Pdb files\n",
    "import biotite.structure.io.pdb as pdb\n",
    "\n",
    "# dir(pdb)"
   ]
  },
  {
   "cell_type": "code",
   "execution_count": 92,
   "metadata": {},
   "outputs": [],
   "source": [
    "# Reading\n",
    "file_reader = pdb.PDBFile()\n",
    "file_reader.read(\"mypdb_dir/4ZS6.pdb\")\n",
    "\n",
    "# print(file_reader) "
   ]
  },
  {
   "cell_type": "code",
   "execution_count": 96,
   "metadata": {},
   "outputs": [],
   "source": [
    "# Methods\n",
    "# dir(file_reader)"
   ]
  },
  {
   "cell_type": "code",
   "execution_count": 98,
   "metadata": {},
   "outputs": [],
   "source": [
    "protein_struc = file_reader.get_structure()\n",
    "# print(protein_struc) "
   ]
  },
  {
   "cell_type": "code",
   "execution_count": 100,
   "metadata": {},
   "outputs": [],
   "source": [
    "# Coord\n",
    "# dir(protein_struc)"
   ]
  },
  {
   "cell_type": "code",
   "execution_count": 101,
   "metadata": {},
   "outputs": [
    {
     "name": "stdout",
     "output_type": "stream",
     "text": [
      "Shape (1, 9842)\n",
      "Coordinates [[[-18.11   24.359 641.863]\n",
      "  [-17.678  23.037 641.408]\n",
      "  [-16.857  22.298 642.484]\n",
      "  ...\n",
      "  [-28.943  39.391 574.093]\n",
      "  [-31.744  37.804 575.741]\n",
      "  [-26.276  43.09  573.911]]]\n"
     ]
    }
   ],
   "source": [
    "# Shape and Coord\n",
    "print(\"Shape\",protein_struc.shape)\n",
    "print(\"Coordinates\",protein_struc.coord)"
   ]
  },
  {
   "cell_type": "code",
   "execution_count": null,
   "metadata": {},
   "outputs": [],
   "source": []
  },
  {
   "cell_type": "markdown",
   "metadata": {},
   "source": [
    "#### Phylogenetics with Biotite\n",
    "+ phylogenetics is the study of the evolutionary history and relationships among individuals or groups of organisms"
   ]
  },
  {
   "cell_type": "code",
   "execution_count": 102,
   "metadata": {},
   "outputs": [],
   "source": [
    "import biotite.sequence.phylo as phylo\n",
    "\n",
    "# dir(phylo)"
   ]
  },
  {
   "cell_type": "code",
   "execution_count": 103,
   "metadata": {},
   "outputs": [],
   "source": [
    "# The reference objects\n",
    "fruits = [\"Apple\", \"Pear\", \"Orange\", \"Lemon\", \"Banana\"]\n",
    "# Create nodes\n",
    "apple  = phylo.TreeNode(index=fruits.index(\"Apple\"))\n",
    "pear   = phylo.TreeNode(index=fruits.index(\"Pear\"))\n",
    "orange = phylo.TreeNode(index=fruits.index(\"Orange\"))\n",
    "lemon  = phylo.TreeNode(index=fruits.index(\"Lemon\"))\n",
    "banana = phylo.TreeNode(index=fruits.index(\"Banana\"))\n",
    "intermediate1 = phylo.TreeNode(\n",
    "    children=(apple, pear), distances=(2.0, 2.0)\n",
    ")\n",
    "intermediate2 = phylo.TreeNode((orange, lemon), (1.0, 1.0))\n",
    "intermediate3 = phylo.TreeNode((intermediate2, banana), (2.0, 3.0))\n",
    "root = phylo.TreeNode((intermediate1, intermediate3), (2.0, 1.0))"
   ]
  },
  {
   "cell_type": "code",
   "execution_count": 104,
   "metadata": {},
   "outputs": [
    {
     "name": "stdout",
     "output_type": "stream",
     "text": [
      "Tree: ((Apple:2.0,Pear:2.0):2.0,((Orange:1.0,Lemon:1.0):2.0,Banana:3.0):1.0):0.0;\n",
      "Tree w/o distances: ((Apple,Pear),((Orange,Lemon),Banana));\n"
     ]
    }
   ],
   "source": [
    "# Create tree from root node\n",
    "tree = phylo.Tree(root=root)\n",
    "# Trees can be converted into Newick notation\n",
    "print(\"Tree:\", tree.to_newick(labels=fruits))\n",
    "# Distances can be omitted\n",
    "print(\n",
    "    \"Tree w/o distances:\",\n",
    "    tree.to_newick(labels=fruits, include_distance=False)\n",
    ")"
   ]
  },
  {
   "cell_type": "code",
   "execution_count": 105,
   "metadata": {},
   "outputs": [
    {
     "name": "stdout",
     "output_type": "stream",
     "text": [
      "Distance Apple-Banana: 8.0\n"
     ]
    }
   ],
   "source": [
    "# Distances can be measured\n",
    "distance = tree.get_distance(fruits.index(\"Apple\"), fruits.index(\"Banana\"))\n",
    "print(\"Distance Apple-Banana:\", distance)"
   ]
  },
  {
   "cell_type": "code",
   "execution_count": 106,
   "metadata": {},
   "outputs": [
    {
     "data": {
      "image/png": "[encoded data removed]",
      "text/plain": [
       "<Figure size 432x432 with 1 Axes>"
      ]
     },
     "metadata": {
      "needs_background": "light"
     },
     "output_type": "display_data"
    }
   ],
   "source": [
    "import matplotlib.pyplot as plt\n",
    "import biotite.sequence.graphics as graphics\n",
    "\n",
    "# Plot a Phylo Tree\n",
    "\n",
    "fig, ax = plt.subplots(figsize=(6.0, 6.0))\n",
    "graphics.plot_dendrogram(ax, tree, labels=fruits)\n",
    "fig.tight_layout()"
   ]
  },
  {
   "cell_type": "code",
   "execution_count": null,
   "metadata": {},
   "outputs": [],
   "source": []
  },
  {
   "cell_type": "markdown",
   "metadata": {},
   "source": [
    "### Creating Applications with Biotite.application\n",
    "+  States\n",
    "    - Created State : initialize app\n",
    "    - Running state: start() does task\n",
    "    - Finished state:\n",
    "    - Joined state: join() : makes the results of the application accessible."
   ]
  },
  {
   "cell_type": "code",
   "execution_count": 110,
   "metadata": {},
   "outputs": [],
   "source": [
    "# Simple app\n",
    "import biotite.application\n",
    "\n",
    "# dir(biotite.application)"
   ]
  },
  {
   "cell_type": "code",
   "execution_count": 111,
   "metadata": {},
   "outputs": [],
   "source": [
    "# BLAST\n",
    "import biotite.application.blast as blast\n",
    "\n",
    "# dir(blast)"
   ]
  },
  {
   "cell_type": "code",
   "execution_count": 112,
   "metadata": {},
   "outputs": [],
   "source": [
    "# task\n",
    "import biotite.sequence as seq\n",
    "mini_protein = seq.ProteinSequence('NLYIQWLKDGGPSSGRPPPS')"
   ]
  },
  {
   "cell_type": "code",
   "execution_count": 113,
   "metadata": {},
   "outputs": [],
   "source": [
    "# Initialize the app & created state\n",
    "app = blast.BlastWebApp(\"blastp\",mini_protein)\n",
    "app.start() # task\n",
    "app.join() #make accessible\n",
    "alignments = app.get_alignments()"
   ]
  },
  {
   "cell_type": "code",
   "execution_count": 114,
   "metadata": {},
   "outputs": [
    {
     "name": "stdout",
     "output_type": "stream",
     "text": [
      "NLYIQWLKDGGPSSGRPPPS\n",
      "NLYIQWLKDGGPSSGRPPPS\n"
     ]
    }
   ],
   "source": [
    "print(alignments[0])"
   ]
  },
  {
   "cell_type": "code",
   "execution_count": 115,
   "metadata": {},
   "outputs": [],
   "source": [
    "best_alignments = alignments[0]"
   ]
  },
  {
   "cell_type": "code",
   "execution_count": 116,
   "metadata": {},
   "outputs": [
    {
     "name": "stdout",
     "output_type": "stream",
     "text": [
      "Score 101\n",
      "E-value 6.19957e-05\n",
      "HIT_ID 1L2Y_A\n",
      "HIT NAME Chain A, TC5b [synthetic construct]\n"
     ]
    }
   ],
   "source": [
    "print(\"Score\",best_alignments.score)\n",
    "print(\"E-value\",best_alignments.e_value)\n",
    "print(\"HIT_ID\",best_alignments.hit_id)\n",
    "print(\"HIT NAME\",best_alignments.hit_definition)"
   ]
  },
  {
   "cell_type": "code",
   "execution_count": 117,
   "metadata": {},
   "outputs": [],
   "source": [
    "myquery2 = entrez.SimpleQuery(\"SARS-CoV-2\")"
   ]
  },
  {
   "cell_type": "code",
   "execution_count": 118,
   "metadata": {},
   "outputs": [
    {
     "data": {
      "text/plain": [
       "['1869520722',\n",
       " '1869490238',\n",
       " '1869490225',\n",
       " '1869490212',\n",
       " '1869490199',\n",
       " '1869490186',\n",
       " '1869490173',\n",
       " '1869490160',\n",
       " '1869490147',\n",
       " '1869490134']"
      ]
     },
     "execution_count": 118,
     "metadata": {},
     "output_type": "execute_result"
    }
   ],
   "source": [
    "# searching with query\n",
    "ans_id = entrez.search(myquery2,\"nucleotide\",number=10)\n",
    "ans_id"
   ]
  },
  {
   "cell_type": "code",
   "execution_count": 119,
   "metadata": {},
   "outputs": [],
   "source": [
    "import matplotlib.pyplot as plt\n",
    "import biotite\n",
    "import biotite.sequence as seq\n",
    "import biotite.sequence.align as align\n",
    "import biotite.sequence.io.fasta as fasta\n",
    "import biotite.database.entrez as entrez\n",
    "import biotite.sequence.graphics as graphics"
   ]
  },
  {
   "cell_type": "code",
   "execution_count": 120,
   "metadata": {},
   "outputs": [],
   "source": [
    "# Download and parse protein sequences of Covid and Mers\n",
    "covid_file_path = entrez.fetch(\"NC_045512\",\"myresult_dir\",suffix=\"fa\",db_name=\"nuccore\",ret_type=\"fasta\")\n",
    "mers_file_path = entrez.fetch(\"NC_019843.3\",\"myresult_dir\",suffix=\"fa\",db_name=\"nuccore\",ret_type=\"fasta\")"
   ]
  },
  {
   "cell_type": "code",
   "execution_count": 121,
   "metadata": {},
   "outputs": [],
   "source": [
    "c_file = fasta.FastaFile()\n",
    "c_file.read(covid_file_path)\n",
    "\n",
    "m_file = fasta.FastaFile()\n",
    "m_file.read(mers_file_path)\n",
    "\n",
    "# Get BLOSUM62 matrix"
   ]
  },
  {
   "cell_type": "code",
   "execution_count": 122,
   "metadata": {},
   "outputs": [
    {
     "name": "stdout",
     "output_type": "stream",
     "text": [
      "ItemsView(<biotite.sequence.io.fasta.FastaFile object at 0x7f973c670210>)\n"
     ]
    }
   ],
   "source": [
    "print(c_file.items())"
   ]
  },
  {
   "cell_type": "code",
   "execution_count": 129,
   "metadata": {},
   "outputs": [
    {
     "data": {
      "text/plain": [
       "'for h,s in c_file.items():\\n    print(h)\\n    print(s)\\n    \\nfor h,s in c_file.items():\\n    print(h)\\n    print(s)\\n    covid_seq = seq.NucleotideSequence(s)\\n    \\nfor h,s in m_file.items():\\n    print(h)\\n    print(s)\\n    mers_seq = seq.NucleotideSequence(s)\\n    '"
      ]
     },
     "execution_count": 129,
     "metadata": {},
     "output_type": "execute_result"
    }
   ],
   "source": [
    "\"\"\"\n",
    "\n",
    "for h,s in c_file.items():\n",
    "    print(h)\n",
    "    print(s)\n",
    "    \n",
    "for h,s in c_file.items():\n",
    "    print(h)\n",
    "    print(s)\n",
    "    covid_seq = seq.NucleotideSequence(s)\n",
    "    \n",
    "for h,s in m_file.items():\n",
    "    print(h)\n",
    "    print(s)\n",
    "    mers_seq = seq.NucleotideSequence(s)\n",
    "--------------------\n",
    "It was too long result you can run it in your own pc to check.\n",
    "--------------------\n",
    "    \n",
    "    \"\"\""
   ]
  },
  {
   "cell_type": "code",
   "execution_count": 125,
   "metadata": {},
   "outputs": [
    {
     "name": "stdout",
     "output_type": "stream",
     "text": [
      "Covid Len 29903\n",
      "MERS Len 30119\n"
     ]
    }
   ],
   "source": [
    "print(\"Covid Len\",len(covid_seq))\n",
    "print(\"MERS Len\",len(mers_seq))"
   ]
  },
  {
   "cell_type": "code",
   "execution_count": 126,
   "metadata": {},
   "outputs": [],
   "source": [
    "mini_covid_seq = covid_seq[0:100]\n",
    "mini_mers_seq = mers_seq[0:100]"
   ]
  },
  {
   "cell_type": "code",
   "execution_count": 127,
   "metadata": {},
   "outputs": [],
   "source": [
    "matrix = align.SubstitutionMatrix.std_nucleotide_matrix()\n",
    "# Perform pairwise sequence alignment with affine gap penalty\n",
    "# Terminal gaps are not penalized\n",
    "alignments = align.align_optimal(mini_covid_seq, mini_mers_seq, matrix,gap_penalty=(-10, -1), terminal_penalty=False)\n",
    "              "
   ]
  },
  {
   "cell_type": "code",
   "execution_count": 128,
   "metadata": {},
   "outputs": [
    {
     "data": {
      "image/png": "[encoded data removed]",
      "text/plain": [
       "<Figure size 576x180 with 2 Axes>"
      ]
     },
     "metadata": {
      "needs_background": "light"
     },
     "output_type": "display_data"
    }
   ],
   "source": [
    "# Draw first and only alignment\n",
    "# The color intensity indicates the similiarity\n",
    "fig = plt.figure(figsize=(8.0, 2.5))\n",
    "ax = fig.add_subplot(111)\n",
    "graphics.plot_alignment_similarity_based(\n",
    "    ax, alignments[0], matrix=matrix, labels=[\"SARS_Covid\", \"MERS\"],\n",
    "    show_numbers=True, show_line_position=True\n",
    ")\n",
    "fig.tight_layout()\n",
    "\n",
    "plt.show()"
   ]
  },
  {
   "cell_type": "code",
   "execution_count": null,
   "metadata": {},
   "outputs": [],
   "source": []
  }
 ],
 "metadata": {
  "kernelspec": {
   "display_name": "Python 3",
   "language": "python",
   "name": "python3"
  },
  "language_info": {
   "codemirror_mode": {
    "name": "ipython",
    "version": 3
   },
   "file_extension": ".py",
   "mimetype": "text/x-python",
   "name": "python",
   "nbconvert_exporter": "python",
   "pygments_lexer": "ipython3",
   "version": "3.7.6"
  }
 },
 "nbformat": 4,
 "nbformat_minor": 4
}
